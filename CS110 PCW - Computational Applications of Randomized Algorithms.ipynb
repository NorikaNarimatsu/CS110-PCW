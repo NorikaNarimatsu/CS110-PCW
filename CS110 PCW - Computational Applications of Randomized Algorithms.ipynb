{
 "cells": [
  {
   "cell_type": "markdown",
   "metadata": {},
   "source": [
    "Before you turn this problem in, make sure everything runs as expected. First, **restart the kernel** (in the menubar, select Kernel$\\rightarrow$Restart) and then **run all cells** (in the menubar, select Cell$\\rightarrow$Run All).\n",
    "\n",
    "Note that this Pre-class Work is estimated to take **63 minutes**.\n",
    "\n",
    "Make sure you fill in any place that says `YOUR CODE HERE` or \"YOUR ANSWER HERE\", as well as your name and collaborators below:"
   ]
  },
  {
   "cell_type": "code",
   "execution_count": null,
   "metadata": {},
   "outputs": [],
   "source": [
    "NAME = \"Norika Narimatsu\"\n",
    "COLLABORATORS = \"\""
   ]
  },
  {
   "cell_type": "markdown",
   "metadata": {},
   "source": [
    "---"
   ]
  },
  {
   "cell_type": "markdown",
   "metadata": {
    "deletable": false,
    "editable": false,
    "nbgrader": {
     "checksum": "d84bba7a025d6f4a33659c51c76ab6ce",
     "grade": false,
     "grade_id": "cell-d94cea4a211410ce",
     "locked": true,
     "schema_version": 1,
     "solution": false
    }
   },
   "source": [
    "# CS110 Pre-class Work - Computational Applications of Randomized Algorithms\n",
    "\n",
    "## Part A. Median Heap (watch this [video explanation](https://www.youtube.com/watch?v=756_8C9YBZQ&list=PLF_a-qBXTGFektoI6JUOTRL36JlvD04BR&index=5&t=0s) or read this [description](https://stackoverflow.com/a/15319593/7946759))\n",
    "\n",
    "Throughout this pre-class work, please use the following definition of median: the median of a list of numbers is the one in the middle of the list when the list is ordered. When such the middle element can’t be determined (i.e., in a list of even length), the average of the two middle elements is the median. For example, 5 is the median of [-1,2,4,5,8,10,12], and (5+7)/2=6 is the median of [1,2,3,5,7,8,10,11].\n",
    "\n",
    "Using the idea from Lesson Heaps and Heapsort, we can use a pair of heaps to create a data structure which allows fast access to the median. Use the heapq module in python to create both a max-heap and a min-heap. Note that by default, the heapq module in python only creates min-heaps, but if we multiply elements by -1 when we store them, then we can also create max-heaps."
   ]
  },
  {
   "cell_type": "markdown",
   "metadata": {
    "deletable": false,
    "editable": false,
    "nbgrader": {
     "checksum": "47ae2ae64e7e5a094e32b8e29577ebd2",
     "grade": false,
     "grade_id": "cell-b62f7899e36af96f",
     "locked": true,
     "schema_version": 1,
     "solution": false
    }
   },
   "source": [
    "## Question 1 [time estimate: 5 minutes]\n",
    "Write a function `median(minh, maxh)`. It must return the median element.\n"
   ]
  },
  {
   "cell_type": "code",
   "execution_count": 125,
   "metadata": {
    "deletable": false,
    "nbgrader": {
     "checksum": "4fdb08f74f611846be80db8164227117",
     "grade": false,
     "grade_id": "cell-43ce866dd1dc2d5b",
     "locked": false,
     "schema_version": 1,
     "solution": true
    }
   },
   "outputs": [
    {
     "data": {
      "text/plain": [
       "5"
      ]
     },
     "execution_count": 125,
     "metadata": {},
     "output_type": "execute_result"
    }
   ],
   "source": [
    "# order\n",
    "# max_heap | median | min_heap\n",
    "\n",
    "def median(minh, maxh):\n",
    "    '''''''''\n",
    "    This function find the median by comparing \n",
    "    the length of max_heap and min_heap.\n",
    "    \n",
    "    Input:\n",
    "    minh: min_heap, which is the right side of the median in the video \n",
    "    maxh: max_heap, which is the left side of the median in the video\n",
    "    \n",
    "    Output:\n",
    "    median element\n",
    ".\n",
    "    '''''''''\n",
    "    \n",
    "    min_len = len(minh)\n",
    "    max_len = len(maxh)\n",
    "    diff = min_len - max_len\n",
    "\n",
    "    # if their length is same\n",
    "    if diff == 0:\n",
    "        # calculate its average of two nodes\n",
    "        return (maxh[0] + (-1*minh[0]))/2 \n",
    "    elif diff > 0: # positive -> min is longer\n",
    "        return -1*minh[0]\n",
    "    else: # negative _> max is longer\n",
    "        return maxh[0]\n",
    "\n",
    "\n",
    "#testcase1 - 6\n",
    "#maxh = [5,3,2,1]\n",
    "#minh = [7,8,10,11]\n",
    "#median(minh, maxh)\n",
    "\n",
    "#testcase2 - 7\n",
    "#maxh = [5,3,2,]\n",
    "#minh = [7,8,10,11]\n",
    "#median(minh, maxh)\n",
    "\n",
    "#testcase3 -5\n",
    "maxh = [5,3,2,1]\n",
    "minh = [7,8,10]\n",
    "median(minh, maxh)"
   ]
  },
  {
   "cell_type": "markdown",
   "metadata": {
    "deletable": false,
    "editable": false,
    "nbgrader": {
     "checksum": "47ae2ae64e7e5a094e32b8e29577ebd2",
     "grade": false,
     "grade_id": "cell-b62f7899e36af96f",
     "locked": true,
     "schema_version": 1,
     "solution": false
    }
   },
   "source": [
    "## Question 2 [time estimate: 10 minutes]\n",
    "Write a function `add_to_median_heap(minh, maxh, elem)`. It must accept a min heap, a max heap, and an element to add.\n"
   ]
  },
  {
   "cell_type": "code",
   "execution_count": 140,
   "metadata": {
    "deletable": false,
    "nbgrader": {
     "checksum": "3f8e0bb0de793ce786eba2f6715d69b3",
     "grade": false,
     "grade_id": "cell-50cb08de70712ee7",
     "locked": false,
     "schema_version": 1,
     "solution": true
    }
   },
   "outputs": [],
   "source": [
    "\n",
    "import heapq\n",
    "\n",
    "\n",
    "def add_to_median_heap(minh, maxh, elem):\n",
    "    '''''''''\n",
    "    This function adds new element to either min_heap or max_heap\n",
    "    \n",
    "    Input:\n",
    "    minh: min_heap, which is the right side of the median in the video \n",
    "    maxh: max_heap, which is the left side of the median in the video\n",
    "    elem: new element we will add \n",
    "    \n",
    "    Output:\n",
    "    None\n",
    "    '''''''''\n",
    "    min_len = len(minh)\n",
    "    max_len = len(maxh)\n",
    "    diff = min_len - max_len \n",
    "    \n",
    "    # as we see in the video, if they are both empty, \n",
    "    # we can insert the element into \n",
    "    if min_len == 0 and max_len == 0: \n",
    "        heapq.heappush(minh,-1*elem)\n",
    "        \n",
    "    # if they have same length\n",
    "    elif diff == 0:  \n",
    "        # and also if the new element is smaller than or equal to the node of min_heap\n",
    "        if elem <= -1*minh[0]:  \n",
    "            # insert them into min_heap\n",
    "            heapq.heappush(minh,-1*elem) \n",
    "        #if new element is bigger than the node of min_heap\n",
    "        if elem > minh[0]: \n",
    "            # insert them into max_heap\n",
    "            heapq.heappush(maxh,elem) \n",
    "    \n",
    "    # keep balance\n",
    "    #if minheap is longer than maxh\n",
    "    elif diff > 0:\n",
    "        # and also if the new element is smaller than or equal to the node of min_heap\n",
    "        if elem <= -1*minh[0]:  \n",
    "            # take the first element of min_heap and store as move\n",
    "            move= -1*heapq.heappop(minh) \n",
    "            # puch this into max_heap to keep balance\n",
    "            heapq.heappush(maxh,move) \n",
    "            # and then, puch the new element to balanced min_heap\n",
    "            heapq.heappush(minh,-1*elem) \n",
    "            \n",
    "        # if the new element is bigger than o the node of min_heap\n",
    "        if elem > minh[0]: \n",
    "            # push it into maxh \n",
    "            heapq.heappush(maxh,elem) \n",
    "    #if minheap is shorter than maxh\n",
    "    else:\n",
    "        # and also if the new element is smaller than or equal to the node of min_heap\n",
    "        if elem <= -1*minh[0]: \n",
    "            # put them into min_heap\n",
    "            heapq.heappush(minh,-1*elem) \n",
    "        # if the new element is bigger than the node of min_heap\n",
    "        if elem > -1*minh[0]:\n",
    "            # take the first element of max_heap and store as move\n",
    "            move=heapq.heappop(maxh)\n",
    "            # move them into min_heap\n",
    "            heapq.heappush(minh,-1*move)\n",
    "            # and  push new element into maxheap\n",
    "            heapq.heappush(maxh,elem)"
   ]
  },
  {
   "cell_type": "code",
   "execution_count": null,
   "metadata": {
    "deletable": false,
    "editable": false,
    "nbgrader": {
     "checksum": "9f79f245efea8c7b7d7c444af36ad997",
     "grade": true,
     "grade_id": "cell-673faa69bf330eda",
     "locked": true,
     "points": 0,
     "schema_version": 1,
     "solution": false
    }
   },
   "outputs": [],
   "source": [
    "# Please ignore this cell. This cell is for us to implement the tests \n",
    "# to see if your code works properly. "
   ]
  },
  {
   "cell_type": "markdown",
   "metadata": {
    "deletable": false,
    "editable": false,
    "nbgrader": {
     "checksum": "ea112ad1eac7cf41487236cf22381071",
     "grade": false,
     "grade_id": "cell-ec86b3a3c5adaedf",
     "locked": true,
     "schema_version": 1,
     "solution": false
    }
   },
   "source": [
    "## Question 3 [time estimate: 1 minute]\n",
    "\n",
    "Uncomment and run the testing code given below to test your functions. It should print out numbers ranging from 1 to 50, in that order."
   ]
  },
  {
   "cell_type": "code",
   "execution_count": 141,
   "metadata": {},
   "outputs": [
    {
     "name": "stdout",
     "output_type": "stream",
     "text": [
      "1\n",
      "2.0\n",
      "3\n",
      "4.0\n",
      "5\n",
      "6.0\n",
      "7\n",
      "8.0\n",
      "9\n",
      "10.0\n",
      "11\n",
      "12.0\n",
      "13\n",
      "14.0\n",
      "15\n",
      "16.0\n",
      "17\n",
      "18.0\n",
      "19\n",
      "20.0\n",
      "21\n",
      "22.0\n",
      "23\n",
      "24.0\n",
      "25\n",
      "26.0\n",
      "27\n",
      "28.0\n",
      "29\n",
      "30.0\n",
      "31\n",
      "32.0\n",
      "33\n",
      "34.0\n",
      "35\n",
      "36.0\n",
      "37\n",
      "38.0\n",
      "39\n",
      "40.0\n",
      "41\n",
      "42.0\n",
      "43\n",
      "44.0\n",
      "45\n",
      "46.0\n",
      "47\n",
      "48.0\n",
      "49\n",
      "50.0\n"
     ]
    }
   ],
   "source": [
    "minh = []\n",
    "maxh = []\n",
    "for a in range(1,100,2):\n",
    "    add_to_median_heap(minh, maxh, a)\n",
    "    print(median(minh, maxh))  "
   ]
  },
  {
   "cell_type": "markdown",
   "metadata": {
    "deletable": false,
    "editable": false,
    "nbgrader": {
     "checksum": "be3a94b3063c99a265c7b868e45a5f69",
     "grade": false,
     "grade_id": "cell-11d4510a48c38394",
     "locked": true,
     "schema_version": 1,
     "solution": false
    }
   },
   "source": [
    "## Question 4 [time estimate: 3 minutes]\n",
    "What’s the worst case complexity to build a median heap using `add_to_median_heap`?"
   ]
  },
  {
   "cell_type": "markdown",
   "metadata": {
    "deletable": false,
    "nbgrader": {
     "checksum": "4ddd5b5c6be74e7306bd08ee76a1b858",
     "grade": true,
     "grade_id": "cell-c8e33ebdc8aaf328",
     "locked": false,
     "points": 0,
     "schema_version": 1,
     "solution": true
    }
   },
   "source": [
    "Worst case scenario: unbalance (skewed partition). In this casem we have to push new element into the heap which already has long length. For example, one heap has every elements, but the other has no elements.  We move the element to keep the balance untill the length will be n/2, which takes log(N) * N/2 times. To be precise, we have smaller notation to compare the length, O(1), but we can ignore it here. Thus, time complexity of add_to_median_heap is O( log(N) * N/2), which we can simplify as O(N log(N)).\n",
    "\n"
   ]
  },
  {
   "cell_type": "markdown",
   "metadata": {
    "deletable": false,
    "editable": false,
    "nbgrader": {
     "checksum": "8a1276ebbad9b1292badcb9090c8a910",
     "grade": false,
     "grade_id": "cell-dada08b7f913c96f",
     "locked": true,
     "schema_version": 1,
     "solution": false
    }
   },
   "source": [
    "## Question 5 [time estimate: 3 minutes] \n",
    "What’s the worst case complexity of `median`?"
   ]
  },
  {
   "cell_type": "markdown",
   "metadata": {
    "deletable": false,
    "nbgrader": {
     "checksum": "7d67e5e84a28b798ba456d72603533f0",
     "grade": true,
     "grade_id": "cell-c061920faa337890",
     "locked": false,
     "points": 0,
     "schema_version": 1,
     "solution": true
    }
   },
   "source": [
    "\n",
    "I believe it is just O(1) because we need to compare the number and there is no loop inside our function..\n"
   ]
  },
  {
   "cell_type": "markdown",
   "metadata": {
    "deletable": false,
    "editable": false,
    "nbgrader": {
     "checksum": "73694bd23377143032d5224818a389b7",
     "grade": false,
     "grade_id": "cell-fcf89277dcd46cbe",
     "locked": true,
     "schema_version": 1,
     "solution": false
    }
   },
   "source": [
    "## Question 6 [time estimate: 4 minutes]\n",
    "\n",
    "How does this way of finding the median compare with the vanilla way of sorting the list and pick the middle element? Use arguments based on efficiency or clearity of the respective algorithms."
   ]
  },
  {
   "cell_type": "markdown",
   "metadata": {
    "deletable": false,
    "nbgrader": {
     "checksum": "733fe35313ebf5888c622423bb7462b4",
     "grade": true,
     "grade_id": "cell-1f31afecda9730a7",
     "locked": false,
     "points": 0,
     "schema_version": 1,
     "solution": true
    }
   },
   "source": [
    "I think the code we write is doing much better job in terms of complexity. When we compare the worst case sceario, the sorting methods we leaned before takes O(N^2). But our function is (N log(N)). "
   ]
  },
  {
   "cell_type": "markdown",
   "metadata": {
    "deletable": false,
    "editable": false,
    "nbgrader": {
     "checksum": "d4869e0b17f0248df4c3ae91668257e8",
     "grade": false,
     "grade_id": "cell-695c23986b831032",
     "locked": true,
     "schema_version": 1,
     "solution": false
    }
   },
   "source": [
    "## [Optional] Question 7 [time estimate: 15 minutes]\n",
    "\n",
    "Is it possible to extend this idea to any percentile? If it is, then write code to do so. If it’s not possible, prove why it is not possible."
   ]
  },
  {
   "cell_type": "code",
   "execution_count": null,
   "metadata": {
    "deletable": false,
    "nbgrader": {
     "checksum": "c293e85a4cf43662dc635c9e0f511be4",
     "grade": true,
     "grade_id": "cell-4d0c197e6d484338",
     "locked": false,
     "points": 0,
     "schema_version": 1,
     "solution": true
    }
   },
   "outputs": [],
   "source": [
    "# YOUR CODE HERE\n",
    "raise NotImplementedError()"
   ]
  },
  {
   "cell_type": "markdown",
   "metadata": {
    "deletable": false,
    "editable": false,
    "nbgrader": {
     "checksum": "bd7ff85760b2e8303c3b4482b6ca44b2",
     "grade": false,
     "grade_id": "cell-3cba7ecc0de11f1b",
     "locked": true,
     "schema_version": 1,
     "solution": false
    }
   },
   "source": [
    "## Part B. Quickselect\n",
    "\n",
    "Quicksort can be modified to find the $k$-th smallest element in an unordered list. This is known as quickselect. It does this by choosing a partition (as in quicksort). Once the list has been partitioned then we know how many elements lie to the left and to the right of the partition. This allows us to recursively call quickselect on the correct sublist.\n",
    "\n",
    "## Question 1 [time estimate: 10 minutes]\n",
    "\n",
    "Write a function `qselect(lst, k)`, which takes both a list and an index $k$. The function must then return the $k$-th smallest item in the list.\n"
   ]
  },
  {
   "cell_type": "code",
   "execution_count": 144,
   "metadata": {
    "deletable": false,
    "nbgrader": {
     "checksum": "3714ebe85f9dbc77eb3bb3c106a009ea",
     "grade": false,
     "grade_id": "cell-fb9c2bc9d5b4bc92",
     "locked": false,
     "schema_version": 1,
     "solution": true
    }
   },
   "outputs": [
    {
     "name": "stdout",
     "output_type": "stream",
     "text": [
      "left: [1, 2, 3, 4]\n",
      "right: [9, 6, 8]\n",
      "k >= len(lst) - len(right)\n",
      "left: [6]\n",
      "right: [9]\n",
      "k < len(left)\n",
      "left: []\n",
      "right: []\n",
      "else\n"
     ]
    },
    {
     "data": {
      "text/plain": [
       "6"
      ]
     },
     "execution_count": 144,
     "metadata": {},
     "output_type": "execute_result"
    }
   ],
   "source": [
    "def qselect_withprint(lst,k):\n",
    "    \n",
    "    #set the last element of the list as a pivot\n",
    "    pivot = lst[-1]  \n",
    "    \n",
    "    # reference https://note.nkmk.me/python-list-select-replace/\n",
    "    # create two different list for left, which contains elements smaller than pivot, \n",
    "    # and right, which contains elements bigger than pivot\n",
    "    left = [x for x in lst if x < pivot]\n",
    "    print(\"left:\", left)\n",
    "    right = [y for y in lst if y > pivot]\n",
    "    print(\"right:\", right)\n",
    "\n",
    "    \n",
    "    if k < len(left):\n",
    "        print(\"k < len(left)\")\n",
    "        # run function for left list \n",
    "        return qselect(left,k)\n",
    "    elif k >= len(lst) - len(right):\n",
    "        # run for right list\n",
    "        print(\"k >= len(lst) - len(right)\")\n",
    "        return qselect(right, k - (len(lst)-len(right)))\n",
    "    else:\n",
    "        #keep numbers and results consistent\n",
    "        print(\"else\")\n",
    "        return pivot\n",
    "    \n",
    "qselect([9,1,2,3,6,8,4,5], 5)"
   ]
  },
  {
   "cell_type": "code",
   "execution_count": 145,
   "metadata": {},
   "outputs": [
    {
     "data": {
      "text/plain": [
       "6"
      ]
     },
     "execution_count": 145,
     "metadata": {},
     "output_type": "execute_result"
    }
   ],
   "source": [
    "def qselect(lst,k):\n",
    "    \n",
    "    #set the last element of the list as a pivot\n",
    "    pivot = lst[-1]  \n",
    "    \n",
    "    # reference https://note.nkmk.me/python-list-select-replace/\n",
    "    # create two different list for left, which contains elements smaller than pivot, \n",
    "    # and right, which contains elements bigger than pivot\n",
    "    left = [x for x in lst if x < pivot]\n",
    "    #print(\"left:\", left)\n",
    "    right = [y for y in lst if y > pivot]\n",
    "    #print(\"right:\", right)\n",
    "\n",
    "    \n",
    "    if k < len(left):\n",
    "        #print(\"k < len(left)\")\n",
    "        # run function for left list \n",
    "        return qselect(left,k)\n",
    "    elif k >= len(lst) - len(right):\n",
    "        # run for right list\n",
    "        #print(\"k >= len(lst) - len(right)\")\n",
    "        return qselect(right, k - (len(lst)-len(right)))\n",
    "    else:\n",
    "        #keep numbers and results consistent\n",
    "        #print(\"else\")\n",
    "        return pivot\n",
    "    \n",
    "qselect([9,1,2,3,6,8,4,5], 5)"
   ]
  },
  {
   "cell_type": "code",
   "execution_count": 147,
   "metadata": {
    "deletable": false,
    "editable": false,
    "nbgrader": {
     "checksum": "5ee41421528107f7ae195a7197a5d6d9",
     "grade": true,
     "grade_id": "cell-85a25ed6a1f62a66",
     "locked": true,
     "points": 0,
     "schema_version": 1,
     "solution": false
    }
   },
   "outputs": [],
   "source": [
    "import random\n",
    "random.seed(123) # introducing a seed for reproducibility purposes\n",
    "lst1 = list(range(100))\n",
    "random.shuffle(lst1)\n",
    "lst2 = []\n",
    "for a in range(100):\n",
    "    lst2.append(qselect(lst1, a))\n",
    "assert(lst2 == list(range(100)))"
   ]
  },
  {
   "cell_type": "markdown",
   "metadata": {
    "deletable": false,
    "editable": false,
    "nbgrader": {
     "checksum": "54fddc25ea0529f44aa6653b18ff7745",
     "grade": false,
     "grade_id": "cell-8013044acd03642a",
     "locked": true,
     "schema_version": 1,
     "solution": false
    }
   },
   "source": [
    "## Question 2 [time estimate: 1 minute]\n",
    "\n",
    "Uncomment and run the testing code given below to test your function. It should print out integers from 0 to 99."
   ]
  },
  {
   "cell_type": "code",
   "execution_count": 148,
   "metadata": {},
   "outputs": [
    {
     "name": "stdout",
     "output_type": "stream",
     "text": [
      "0\n",
      "1\n",
      "2\n",
      "3\n",
      "4\n",
      "5\n",
      "6\n",
      "7\n",
      "8\n",
      "9\n",
      "10\n",
      "11\n",
      "12\n",
      "13\n",
      "14\n",
      "15\n",
      "16\n",
      "17\n",
      "18\n",
      "19\n",
      "20\n",
      "21\n",
      "22\n",
      "23\n",
      "24\n",
      "25\n",
      "26\n",
      "27\n",
      "28\n",
      "29\n",
      "30\n",
      "31\n",
      "32\n",
      "33\n",
      "34\n",
      "35\n",
      "36\n",
      "37\n",
      "38\n",
      "39\n",
      "40\n",
      "41\n",
      "42\n",
      "43\n",
      "44\n",
      "45\n",
      "46\n",
      "47\n",
      "48\n",
      "49\n",
      "50\n",
      "51\n",
      "52\n",
      "53\n",
      "54\n",
      "55\n",
      "56\n",
      "57\n",
      "58\n",
      "59\n",
      "60\n",
      "61\n",
      "62\n",
      "63\n",
      "64\n",
      "65\n",
      "66\n",
      "67\n",
      "68\n",
      "69\n",
      "70\n",
      "71\n",
      "72\n",
      "73\n",
      "74\n",
      "75\n",
      "76\n",
      "77\n",
      "78\n",
      "79\n",
      "80\n",
      "81\n",
      "82\n",
      "83\n",
      "84\n",
      "85\n",
      "86\n",
      "87\n",
      "88\n",
      "89\n",
      "90\n",
      "91\n",
      "92\n",
      "93\n",
      "94\n",
      "95\n",
      "96\n",
      "97\n",
      "98\n",
      "99\n"
     ]
    }
   ],
   "source": [
    "\n",
    "import random\n",
    "random.seed(123) # introducing a seed for reproducibility purposes\n",
    "lst = list(range(100))\n",
    "random.shuffle(lst)\n",
    "for a in range(100):\n",
    "    print(qselect(lst, a))"
   ]
  },
  {
   "cell_type": "markdown",
   "metadata": {
    "deletable": false,
    "editable": false,
    "nbgrader": {
     "checksum": "3fede812466807c2a250ab3c6427f75c",
     "grade": false,
     "grade_id": "cell-e7a965de7bb56aa3",
     "locked": true,
     "schema_version": 1,
     "solution": false
    }
   },
   "source": [
    "## Question 3 [time estimate: 5 minutes]\n",
    "\n",
    "Write down the recurrence relation for your code."
   ]
  },
  {
   "cell_type": "markdown",
   "metadata": {
    "deletable": false,
    "nbgrader": {
     "checksum": "6fb3d2481f5df1b96c902e5446844f87",
     "grade": true,
     "grade_id": "cell-24144607b3ffade3",
     "locked": false,
     "points": 0,
     "schema_version": 1,
     "solution": true
    }
   },
   "source": [
    "From session 3.1: \n",
    "Whole problem = (How many we solve) T (n / (number of sub-problems)) + Theta( how long it takes us to set up the sub-problems + Combine )\n",
    "\n",
    "T(N) = T(N/2) +O(N)\n",
    "\n",
    "To get pertition, we compare the element -> O(N)\n",
    "In the code, we have 2 cases (k> len(left) or len(right)) -> It means we  recursively call half case -> N/2.\n",
    "\n",
    "\n"
   ]
  },
  {
   "cell_type": "markdown",
   "metadata": {
    "deletable": false,
    "editable": false,
    "nbgrader": {
     "checksum": "311ee23a32dbc3ba43d3bba0d433871b",
     "grade": false,
     "grade_id": "cell-fd740516f4259f3c",
     "locked": true,
     "schema_version": 1,
     "solution": false
    }
   },
   "source": [
    "## Question 4 [time estimate: 3 minutes]\n",
    "\n",
    "Solve the recurrence relation for quickselect in the best case.\n"
   ]
  },
  {
   "cell_type": "markdown",
   "metadata": {
    "deletable": false,
    "nbgrader": {
     "checksum": "78416da569a0269f78967b11d7b93332",
     "grade": true,
     "grade_id": "cell-c125f4742933e820",
     "locked": false,
     "points": 0,
     "schema_version": 1,
     "solution": true
    }
   },
   "source": [
    "T(N) = O(1) to print the pivot and insert them.\n",
    "There is one new element to insert.\n",
    "\n"
   ]
  },
  {
   "cell_type": "markdown",
   "metadata": {
    "deletable": false,
    "editable": false,
    "nbgrader": {
     "checksum": "7cc9c5e0531e8ece71be2ff60ee65995",
     "grade": false,
     "grade_id": "cell-e281cecc190fd662",
     "locked": true,
     "schema_version": 1,
     "solution": false
    }
   },
   "source": [
    "## Question 5 [time estimate: 3 minutes]\n",
    "\n",
    "Solve the recurrence relation for quickselect in the worst case."
   ]
  },
  {
   "cell_type": "markdown",
   "metadata": {
    "deletable": false,
    "nbgrader": {
     "checksum": "f4cceeaea59e48c3fabdb8d19e302db5",
     "grade": true,
     "grade_id": "cell-852c3a71d8c2d7c1",
     "locked": false,
     "points": 0,
     "schema_version": 1,
     "solution": true
    }
   },
   "source": [
    "T(N ) = O(n^2) It happens when all elements are either larger or smaller than pivots. We have recurrence with one branch. \n",
    "\n"
   ]
  }
 ],
 "metadata": {
  "kernelspec": {
   "display_name": "Python 3",
   "language": "python",
   "name": "python3"
  },
  "language_info": {
   "codemirror_mode": {
    "name": "ipython",
    "version": 3
   },
   "file_extension": ".py",
   "mimetype": "text/x-python",
   "name": "python",
   "nbconvert_exporter": "python",
   "pygments_lexer": "ipython3",
   "version": "3.8.5"
  }
 },
 "nbformat": 4,
 "nbformat_minor": 2
}
