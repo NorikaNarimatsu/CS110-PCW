{
 "cells": [
  {
   "cell_type": "markdown",
   "metadata": {},
   "source": [
    "Before you turn this problem in, make sure everything runs as expected. First, **restart the kernel** (in the menubar, select Kernel$\\rightarrow$Restart) and then **run all cells** (in the menubar, select Cell$\\rightarrow$Run All).\n",
    "\n",
    "Note that this Pre-class Work is estimated to take **34 minutes**.\n",
    "\n",
    "Make sure you fill in any place that says `YOUR CODE HERE` or \"YOUR ANSWER HERE\", as well as your name and collaborators below:"
   ]
  },
  {
   "cell_type": "code",
   "execution_count": null,
   "metadata": {},
   "outputs": [],
   "source": [
    "NAME = \"Norika Narimatsu\"\n",
    "COLLABORATORS = \"\""
   ]
  },
  {
   "cell_type": "markdown",
   "metadata": {},
   "source": [
    "---"
   ]
  },
  {
   "cell_type": "markdown",
   "metadata": {
    "deletable": false,
    "editable": false,
    "nbgrader": {
     "checksum": "69779d40de39e2fcb822ffd099ed946a",
     "grade": false,
     "grade_id": "cell-361a67c139252f60",
     "locked": true,
     "schema_version": 1,
     "solution": false
    }
   },
   "source": [
    "# CS110 Pre-class Work - The Delta Median problem and Randomization\n",
    "\n",
    "## Question 1 [time estimate: 16 minutes]\n",
    "\n",
    "### Question 1a [time estimate: 7 minutes]\n",
    "\n",
    "Write the worst sort function in the world, `worst_sort`. This function takes a list, and then randomly shuffles it until it happens to be in sorted order. Once it is in sorted order then the list is returned.\n"
   ]
  },
  {
   "cell_type": "code",
   "execution_count": 9,
   "metadata": {
    "deletable": false,
    "nbgrader": {
     "checksum": "c144735a0a3c9ee1e5a60e781fec46a9",
     "grade": false,
     "grade_id": "cell-ead9c74054a1c5da",
     "locked": false,
     "schema_version": 1,
     "solution": true
    }
   },
   "outputs": [
    {
     "name": "stdout",
     "output_type": "stream",
     "text": [
      "[1, 2, 2, 3, 4, 4, 4, 5, 6, 6, 8, 9]\n"
     ]
    }
   ],
   "source": [
    "import random\n",
    "def worst_sort(A):\n",
    "    \"\"\"\n",
    "    Sort A in ascending order by randomly shuffling its \n",
    "    elements until they are in order.\n",
    "    \n",
    "    Parameters\n",
    "    ----------\n",
    "    A : list\n",
    "        A list of numerical values\n",
    "        \n",
    "    Returns\n",
    "    -------\n",
    "    A : list\n",
    "        Sorted list\n",
    "        \n",
    "    \"\"\"\n",
    "    # compare the input A and modified A, that is sorted by built in function \n",
    "    # while A is not equal to ascending ordered A,\n",
    "    # continue to shuffle A\n",
    "    while A != sorted(A):\n",
    "        random.shuffle(A)\n",
    "    return A\n",
    "        \n",
    "print(worst_sort([6,5,4,3,2,1,4,6,9,4,8,2]))"
   ]
  },
  {
   "cell_type": "code",
   "execution_count": null,
   "metadata": {
    "deletable": false,
    "editable": false,
    "nbgrader": {
     "checksum": "09c3f02f46b5ba86c3aa80498b9c8c34",
     "grade": true,
     "grade_id": "cell-ff4db3a3e8b04515",
     "locked": true,
     "points": 1,
     "schema_version": 1,
     "solution": false
    }
   },
   "outputs": [],
   "source": [
    "# Please ignore this cell. This cell is for us to implement the tests \n",
    "# to see if your code works properly. "
   ]
  },
  {
   "cell_type": "markdown",
   "metadata": {
    "deletable": false,
    "editable": false,
    "nbgrader": {
     "checksum": "18d2bd43c2db165cb6806cb1e14df4f1",
     "grade": false,
     "grade_id": "cell-3ffcfdae9ec3ea41",
     "locked": true,
     "schema_version": 1,
     "solution": false
    }
   },
   "source": [
    "### Question 1b [time estimate: 3 minutes]\n",
    "What is the best case complexity of this algorithm?"
   ]
  },
  {
   "cell_type": "markdown",
   "metadata": {
    "deletable": false,
    "nbgrader": {
     "checksum": "76bf94004078f73d21791758ac6db72b",
     "grade": true,
     "grade_id": "cell-afac80171b3b6232",
     "locked": false,
     "points": 0,
     "schema_version": 1,
     "solution": true
    }
   },
   "source": [
    "\n",
    "I think best case complexity is O(n) when the input is orderdy sorted. With this input, we do not need to shuffle elements, but compare them to verigy their order is actually sorted.\n",
    "\n",
    "\n"
   ]
  },
  {
   "cell_type": "markdown",
   "metadata": {
    "deletable": false,
    "editable": false,
    "nbgrader": {
     "checksum": "1b1210d5a27f9933086d0f3a0d234361",
     "grade": false,
     "grade_id": "cell-d98018127b7e79f4",
     "locked": true,
     "schema_version": 1,
     "solution": false
    }
   },
   "source": [
    "### Question 1c [time estimate: 3 minutes]\n",
    "\n",
    "What is the average case complexity?\n"
   ]
  },
  {
   "cell_type": "markdown",
   "metadata": {
    "deletable": false,
    "nbgrader": {
     "checksum": "97d1e74314efdae93ea73d510e233468",
     "grade": true,
     "grade_id": "cell-9d52d34daa1e3478",
     "locked": false,
     "points": 0,
     "schema_version": 1,
     "solution": true
    }
   },
   "source": [
    "We have n! possible orders (permutations). Here, we shuffle A multiple times and its time complexityis O(n). Thus, average case complexity has exponential growth with O(n) * O(n!)\n"
   ]
  },
  {
   "cell_type": "markdown",
   "metadata": {
    "deletable": false,
    "editable": false,
    "nbgrader": {
     "checksum": "fdbf5403114d2a68085e8172d0122685",
     "grade": false,
     "grade_id": "cell-d6d8ad45088488eb",
     "locked": true,
     "schema_version": 1,
     "solution": false
    }
   },
   "source": [
    "### Question 1d [time estimate: 3 minutes]\n",
    "\n",
    "For what size lists is this a feasible method?"
   ]
  },
  {
   "cell_type": "markdown",
   "metadata": {
    "deletable": false,
    "nbgrader": {
     "checksum": "080a5eecbe3afcffed278b7cbba7f51a",
     "grade": true,
     "grade_id": "cell-ab40f08768579798",
     "locked": false,
     "points": 0,
     "schema_version": 1,
     "solution": true
    }
   },
   "source": [
    "Since its time complexity exponentially increase, this method is feasible with short inputs. With small number of inputs, the number of permutation is also small too.\n"
   ]
  },
  {
   "cell_type": "markdown",
   "metadata": {
    "deletable": false,
    "editable": false,
    "nbgrader": {
     "checksum": "cbe19c6348c19b5df04e84b537f6ebf0",
     "grade": false,
     "grade_id": "cell-56ae4e75a4086ee8",
     "locked": true,
     "schema_version": 1,
     "solution": false
    }
   },
   "source": [
    "### [Optional] Question 1e [time estimate: 5 minutes]\n",
    "\n",
    "Can you think of an even worse sorting method? In such a case, what would its complexity be? How big a list could you sort?"
   ]
  },
  {
   "cell_type": "markdown",
   "metadata": {
    "deletable": false,
    "nbgrader": {
     "checksum": "564b860df18fb1bb2fc987ec4240f98d",
     "grade": true,
     "grade_id": "cell-ac05806942341926",
     "locked": false,
     "points": 0,
     "schema_version": 1,
     "solution": true
    }
   },
   "source": [
    "YOUR ANSWER HERE"
   ]
  },
  {
   "cell_type": "markdown",
   "metadata": {
    "deletable": false,
    "editable": false,
    "nbgrader": {
     "checksum": "40515e7d9388c7d96f739bacbce82dc9",
     "grade": false,
     "grade_id": "cell-16012d2af0ef00ec",
     "locked": true,
     "schema_version": 1,
     "solution": false
    }
   },
   "source": [
    "## Question 2 [time estimate: 18 minutes]\n",
    "\n",
    "Approximate median finder. Given a list and $\\tilde{\\delta}$ (a number between 0 and 0.5), the approximate median finder function returns a number that is guaranteed to lie between the $(50-\\tilde{\\delta}/2)$% and $(50+\\tilde{\\delta}/2)$% percentiles, where $\\tilde{\\delta}=100\\cdot \\delta$. Implement such a function by randomly selecting an element from the list and testing whether or not it lies within the bounds. If it doesn’t then retry with a new random element, but only a limited number of retries are allowed (you decide the maximum number of retries.)\n",
    "\n",
    "### Question 2a [time estimate: 5 minutes]\n",
    "Complete the following function\n"
   ]
  },
  {
   "cell_type": "code",
   "execution_count": 42,
   "metadata": {
    "deletable": false,
    "nbgrader": {
     "checksum": "548fd28a258929e5cc8df24ef955088e",
     "grade": false,
     "grade_id": "cell-2ab65512a6148d3c",
     "locked": false,
     "schema_version": 1,
     "solution": true
    }
   },
   "outputs": [
    {
     "data": {
      "text/plain": [
       "False"
      ]
     },
     "execution_count": 42,
     "metadata": {},
     "output_type": "execute_result"
    }
   ],
   "source": [
    "def check_approx_med(A, num, delta):\n",
    "    \"\"\"\n",
    "    Given a list and a number in a list, determine whether it is \n",
    "    within (50-delta/2)% and(50+delta/2)% percentiles.\n",
    "    \n",
    "    X% percentile of a list is defined to be the smallest number in \n",
    "    the list that is as large as at least X% numbers in the list. \n",
    "    \n",
    "    Parameters\n",
    "    ----------\n",
    "    A : list\n",
    "        A list of numerical values\n",
    "    num \n",
    "        The number of interest\n",
    "    delta : float\n",
    "        The error, lies between 0 and 0.5\n",
    "\n",
    "    Returns\n",
    "    -------\n",
    "    isApproxMed : bool\n",
    "        A boolean value indicating whether num is whithin the bound\n",
    "    \n",
    "    \"\"\"\n",
    "    #decide the maximum number\n",
    "    maximum = max(A)\n",
    "    \n",
    "    #where  delta hat =100* 𝛿 .\n",
    "    delta_hat = delta * 100\n",
    "    \n",
    "    #setting percentile bounds as defined above\n",
    "    L = ((50 - delta_hat/2)/100)* maximum\n",
    "    U = (50 + delta_hat/2)/100 * maximum\n",
    "    \n",
    "    #  if num is between L and U, it returns true\n",
    "    if L <= num & num<= U:\n",
    "        return True\n",
    "    return False\n",
    "\n",
    "    #  for the test case 3, if A has one element, it will be true\n",
    "    if A == [num]:\n",
    "        return True\n",
    "    \n",
    "    return False\n",
    "\n",
    "check_approx_med([0,5,3,2], 0, .25)"
   ]
  },
  {
   "cell_type": "code",
   "execution_count": 11,
   "metadata": {
    "deletable": false,
    "editable": false,
    "nbgrader": {
     "checksum": "b979d5befebc9e0a9b3f105503fa8eac",
     "grade": true,
     "grade_id": "cell-df56d7433abb6517",
     "locked": true,
     "points": 1,
     "schema_version": 1,
     "solution": false
    }
   },
   "outputs": [],
   "source": [
    "assert(check_approx_med([0, 1], 0.4, .25) == True)\n",
    "assert(check_approx_med([0, 1], 0, .25) == False)\n",
    "assert(check_approx_med([0], 0, .25) == True)"
   ]
  },
  {
   "cell_type": "markdown",
   "metadata": {
    "deletable": false,
    "editable": false,
    "nbgrader": {
     "checksum": "ea4f76410780e7134e2bc46fbe5663e9",
     "grade": false,
     "grade_id": "cell-18a16dfd102f137c",
     "locked": true,
     "schema_version": 1,
     "solution": false
    }
   },
   "source": [
    "### Question 2b [time estimate: 5 minutes]\n",
    "Complete the following function that makes use of `check_approx_med` above.\n"
   ]
  },
  {
   "cell_type": "code",
   "execution_count": 41,
   "metadata": {
    "deletable": false,
    "nbgrader": {
     "checksum": "2b3cfdf82e0efce4078cc52b3680f7be",
     "grade": false,
     "grade_id": "cell-e19685b545147dde",
     "locked": false,
     "schema_version": 1,
     "solution": true
    }
   },
   "outputs": [
    {
     "data": {
      "text/plain": [
       "1"
      ]
     },
     "execution_count": 41,
     "metadata": {},
     "output_type": "execute_result"
    }
   ],
   "source": [
    "def approx_med_finder(A, delta):\n",
    "    \"\"\"\n",
    "    Given a list, find a number in the list that is between \n",
    "    50-delta/2% and 50+delta/2% percentiles\n",
    "    \n",
    "    Paramters\n",
    "    ---------\n",
    "    A : list\n",
    "        A list of numerical values\n",
    "    Delta : int\n",
    "        The error, lies between 0 and 0.5\n",
    "        \n",
    "    Returns\n",
    "    -------\n",
    "    num\n",
    "        The approximated median if it is found within 100//delta trials\n",
    "        (this is one possible maximum number of retries. While you are \n",
    "        encouraged to play around with another limits, the submitted work \n",
    "        must use this number)\n",
    "    None\n",
    "        Finding failed, if nothing is found within 100//delta trials\n",
    "   \n",
    "   \n",
    "    Note\n",
    "    ----\n",
    "    The 100//delta is chosen here as it is the expected number of trials for \n",
    "    the first successful finding to occur (using geometric distribution)\n",
    "    \n",
    "    \"\"\"\n",
    "    end = 100//delta\n",
    "    trial = 0\n",
    "    while trial < end:\n",
    "       \n",
    "        #select a random number from A\n",
    "        nums = random.sample(A,1)\n",
    "        num = nums[0]\n",
    "        \n",
    "        # if the num is within the bounds, it is median, so return that value\n",
    "        if check_approx_med(A, num, delta) == True:\n",
    "            return num\n",
    "        \n",
    "        #move on to the next trial\n",
    "        trial+=1\n",
    "        \n",
    "    # if there is no value which falles between check_approx_med,\n",
    "    #. return \"Finding failed\"\n",
    "    return \"Finding failed\"\n",
    "    \n",
    "approx_med_finder([0,2],.25)\n",
    "approx_med_finder([0,1,2],.25)\n"
   ]
  },
  {
   "cell_type": "markdown",
   "metadata": {
    "deletable": false,
    "editable": false,
    "nbgrader": {
     "checksum": "77b77f7047dea39f9b7526a785f0e652",
     "grade": false,
     "grade_id": "cell-1863e0846b176982",
     "locked": true,
     "schema_version": 1,
     "solution": false
    }
   },
   "source": [
    "### Question 2c [time estimate: 3 minutes]\n",
    "\n",
    "What is the probability of failure in each random trial? What is the probability of failure after all the allowed random trials? Does this scale with $\\delta$ or $N$ (the number of elements in a list)?\n"
   ]
  },
  {
   "cell_type": "markdown",
   "metadata": {
    "deletable": false,
    "nbgrader": {
     "checksum": "f7d6ed353a91d12d66b53a735d84f81b",
     "grade": true,
     "grade_id": "cell-efe7ab76f6a2546a",
     "locked": false,
     "points": 0,
     "schema_version": 1,
     "solution": true
    }
   },
   "source": [
    "complementary set\n",
    "Success: the num is within the range\n",
    "Failuer: the num is NOT within the range\n",
    "\n",
    "P(failuer) = 1 - P(succes).\n",
    "Depending on the value of delta (0 - 0.5), the bigger delta is, the wider the range of bounds will be -> more successful!\n",
    "\n",
    "I don not think N (the number of elements in a list) influence the probability of success.\n",
    "\n",
    "\n",
    "\n",
    "\n"
   ]
  },
  {
   "cell_type": "markdown",
   "metadata": {
    "deletable": false,
    "editable": false,
    "nbgrader": {
     "checksum": "a602a3cad0ff35029b447d00dcee6b6c",
     "grade": false,
     "grade_id": "cell-a41fe377076cd283",
     "locked": true,
     "schema_version": 1,
     "solution": false
    }
   },
   "source": [
    "### Question 2d [time estimate: 5 minutes]\n",
    "Analyze the expected runtime of `approx_med_finder`. Note that because the function uses `check_approx_med`, you will most likely need to analyze the runtime of that function, too."
   ]
  },
  {
   "cell_type": "markdown",
   "metadata": {
    "deletable": false,
    "nbgrader": {
     "checksum": "255d88cf8e4f6ff8b3eb05cab2aa5f48",
     "grade": true,
     "grade_id": "cell-86b199798477fc2a",
     "locked": false,
     "points": 0,
     "schema_version": 1,
     "solution": true
    }
   },
   "source": [
    "\n",
    "Best case, find median at the first try (the first element of the list is median). Its time complexity is O(1)\n",
    "Worst case, check 100//delta times but there is no median. O(100//delta)"
   ]
  }
 ],
 "metadata": {
  "kernelspec": {
   "display_name": "Python 3",
   "language": "python",
   "name": "python3"
  },
  "language_info": {
   "codemirror_mode": {
    "name": "ipython",
    "version": 3
   },
   "file_extension": ".py",
   "mimetype": "text/x-python",
   "name": "python",
   "nbconvert_exporter": "python",
   "pygments_lexer": "ipython3",
   "version": "3.8.5"
  }
 },
 "nbformat": 4,
 "nbformat_minor": 2
}
