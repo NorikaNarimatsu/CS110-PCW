{
 "cells": [
  {
   "cell_type": "markdown",
   "metadata": {},
   "source": [
    "Before you turn this problem in, make sure everything runs as expected. First, **restart the kernel** (in the menubar, select Kernel$\\rightarrow$Restart) and then **run all cells** (in the menubar, select Cell$\\rightarrow$Run All).\n",
    "\n",
    "Note that this Pre-class Work is estimated to take **38 minutes**.\n",
    "\n",
    "Make sure you fill in any place that says `YOUR CODE HERE` or \"YOUR ANSWER HERE\", as well as your name and collaborators below:"
   ]
  },
  {
   "cell_type": "code",
   "execution_count": null,
   "metadata": {},
   "outputs": [],
   "source": [
    "NAME = \"Norika\"\n",
    "COLLABORATORS = \"\""
   ]
  },
  {
   "cell_type": "markdown",
   "metadata": {},
   "source": [
    "---"
   ]
  },
  {
   "cell_type": "markdown",
   "metadata": {
    "deletable": false,
    "editable": false,
    "nbgrader": {
     "checksum": "df135f0c4ea26cc7c0b25cb64a20e634",
     "grade": false,
     "grade_id": "cell-b46066345313bea6",
     "locked": true,
     "schema_version": 1,
     "solution": false
    }
   },
   "source": [
    "# CS110 Pre-class Work - Writing algorithms in Python--part II\n",
    "\n",
    "## Question 1 [time estimate: 3 minutes]\n",
    "\n",
    "Why would you use a class with its methods and attributes rather than defining a function in the main block of your code? Feel free to use the examples given in the Study Guide, or feel free to provide your own."
   ]
  },
  {
   "cell_type": "markdown",
   "metadata": {
    "deletable": false,
    "nbgrader": {
     "checksum": "104f443d240e2139d778711f6bc0a766",
     "grade": true,
     "grade_id": "cell-3bac59ff24b11a27",
     "locked": false,
     "points": 0,
     "schema_version": 1,
     "solution": true
    }
   },
   "source": [
    "To avoid to input many same information. For example, when we are finding our new houses to live in, and using python to compare some potential houses. Even though they are different from each others, there are some relathionship between them. "
   ]
  },
  {
   "cell_type": "markdown",
   "metadata": {
    "deletable": false,
    "editable": false,
    "nbgrader": {
     "checksum": "7872c2d656a6cb3aaeff2b4fa41eb204",
     "grade": false,
     "grade_id": "cell-0ca65d04b209f37f",
     "locked": true,
     "schema_version": 1,
     "solution": false
    }
   },
   "source": [
    "## Question 2 [time estimate: 3 minutes]\n",
    "\n",
    "What are the benefits of having instance attributes? Explain your answer."
   ]
  },
  {
   "cell_type": "markdown",
   "metadata": {
    "deletable": false,
    "nbgrader": {
     "checksum": "4ff5af35daed9a5442ba229263bdde33",
     "grade": true,
     "grade_id": "cell-442998d5fdd8b561",
     "locked": false,
     "points": 0,
     "schema_version": 1,
     "solution": true
    }
   },
   "source": [
    "instance attirubutes are the attributes that are unique to the instance. we can ceate unique instances of a class -> the properties that class need to hold."
   ]
  },
  {
   "cell_type": "markdown",
   "metadata": {
    "deletable": false,
    "editable": false,
    "nbgrader": {
     "checksum": "9d7a3b260b0fef93382fb52aa393f963",
     "grade": false,
     "grade_id": "cell-0ac1c20b43acb363",
     "locked": true,
     "schema_version": 1,
     "solution": false
    }
   },
   "source": [
    "## Question 3 [time estimate: 3 minutes]\n",
    "\n",
    "Why would you want to introduce these attributes inside the `__init__` method rather than in another place like a method of its own? Explain your answer."
   ]
  },
  {
   "cell_type": "markdown",
   "metadata": {
    "deletable": false,
    "nbgrader": {
     "checksum": "eb02c9951e19ee43d128fa93dd53eaad",
     "grade": true,
     "grade_id": "cell-5ecb51404140cb2f",
     "locked": false,
     "points": 0,
     "schema_version": 1,
     "solution": true
    }
   },
   "source": [
    "we use __init__ to initialize objects. After this, we can use them as an avairable input within method. "
   ]
  },
  {
   "cell_type": "markdown",
   "metadata": {
    "deletable": false,
    "editable": false,
    "nbgrader": {
     "checksum": "cb0b8b9c4b153530d47b437baa24098d",
     "grade": false,
     "grade_id": "cell-b22dce6b32afe1a9",
     "locked": true,
     "schema_version": 1,
     "solution": false
    }
   },
   "source": [
    "## Question 4 [time estimate: 7 minutes]\n",
    "\n",
    "Write a Python class, called `Minervan`, where an instance of this class should represent a Minerva student.\n",
    "\n",
    "For example, Jake is a Minerva student that we want to represent using this class. He is 22 years old, originally from Australia, and is on the class of 2022. He is majoring in Computational Sciences. \n",
    "\n",
    "In the following code cell, write your `Minervan` class, which should contain relevant methods and attributes you can come up with. Justify your choice of methods and attributes in the markdown cell below."
   ]
  },
  {
   "cell_type": "code",
   "execution_count": 16,
   "metadata": {
    "deletable": false,
    "nbgrader": {
     "checksum": "eb02c9951e19ee43d128fa93dd53eaad",
     "grade": true,
     "grade_id": "cell-5ecb51404140cb2f",
     "locked": false,
     "points": 0,
     "schema_version": 1,
     "solution": true
    }
   },
   "outputs": [
    {
     "name": "stdout",
     "output_type": "stream",
     "text": [
      "Hi, my name is  Norika  and  20  years old.   I am currently in Seoul and my expected graduation year is  2023  My major is  CS , and my interest is  Education . I am looking forward to tlking with you!!!\n"
     ]
    }
   ],
   "source": [
    " class Minervans:\n",
    "    \"\"\"\n",
    "    This is a class for Minerva students, \n",
    "    appropriate for any Minerva student currently enrolled.\n",
    "    Attribites:\n",
    "    name: str\n",
    "          Name of the student\n",
    "    age: float\n",
    "          Age of the student\n",
    "    country : str\n",
    "          Country of origin of the student\n",
    "    graduation: str\n",
    "          Graduation year of the student\n",
    "    major: str\n",
    "          Major area of studies of the student\n",
    "    \"\"\"\n",
    "        \n",
    "    def __init__(self, name, age, city, year, major, interest):\n",
    "        self.name = name\n",
    "        self.age = age\n",
    "        self.city = city\n",
    "        self.year = year\n",
    "        self.major = major\n",
    "        self.interest = interest\n",
    "        \n",
    "    def civitas_profile(self):\n",
    "        print(\"Hi, my name is \", self.name, \" and \", str(self.age), \" years old. \",\n",
    "              \" I am currently in\", self.city, \"and my expected graduation year is \", \n",
    "              str(self.year),\" My major is \", self.major, \", and my interest is \", self.interest, \". I am looking forward to tlking with you!!!\")\n",
    "        \n",
    "Norika = Minervans(\"Norika\", 20, \"Seoul\", 2023, \"CS\", \"Education\")\n",
    "Norika.civitas_profile()\n",
    "\n"
   ]
  },
  {
   "cell_type": "markdown",
   "metadata": {},
   "source": [
    "When we initialize, we set the inputs that we will use the self defined function below. I wrote the function to help XSP team to create the Name Card. "
   ]
  },
  {
   "cell_type": "markdown",
   "metadata": {
    "deletable": false,
    "nbgrader": {
     "checksum": "eb02c9951e19ee43d128fa93dd53eaad",
     "grade": true,
     "grade_id": "cell-5ecb51404140cb2f",
     "locked": false,
     "points": 0,
     "schema_version": 1,
     "solution": true
    }
   },
   "source": [
    "YOUR ANSWER HERE"
   ]
  },
  {
   "cell_type": "markdown",
   "metadata": {
    "deletable": false,
    "editable": false,
    "nbgrader": {
     "checksum": "cb0b8b9c4b153530d47b437baa24098d",
     "grade": false,
     "grade_id": "cell-b22dce6b32afe1a9",
     "locked": true,
     "schema_version": 1,
     "solution": false
    }
   },
   "source": [
    "## Question 5 [time estimate: 7 minutes]\n",
    "\n",
    "Now add another student, named 'Anitha', as an instance of this class. Choose the relevant attributes for this new student. Which question took you longer to answer—Q4 or Q5? Why?"
   ]
  },
  {
   "cell_type": "code",
   "execution_count": 18,
   "metadata": {
    "deletable": false,
    "nbgrader": {
     "checksum": "eb02c9951e19ee43d128fa93dd53eaad",
     "grade": true,
     "grade_id": "cell-5ecb51404140cb2f",
     "locked": false,
     "points": 0,
     "schema_version": 1,
     "solution": true
    }
   },
   "outputs": [
    {
     "name": "stdout",
     "output_type": "stream",
     "text": [
      "Hi, my name is  Anitha  and  22  years old.   I am currently in SF and my expected graduation year is  2021  My major is  AH , and my interest is  Literature . I am looking forward to tlking with you!!!\n"
     ]
    }
   ],
   "source": [
    "Anitha = Minervans(\"Anitha\", 22, \"SF\", 2021, \"AH\", \"Literature\")\n",
    "Anitha.civitas_profile()"
   ]
  },
  {
   "cell_type": "markdown",
   "metadata": {},
   "source": [
    "Question 5 is much faster thatn Question 4. In the question 4, we already built the base of class. So if we would like to add more fellow Minervans, it is much easier rather than defining every single students individually.\n",
    "\n"
   ]
  },
  {
   "cell_type": "markdown",
   "metadata": {
    "deletable": false,
    "editable": false,
    "nbgrader": {
     "checksum": "cb0b8b9c4b153530d47b437baa24098d",
     "grade": false,
     "grade_id": "cell-b22dce6b32afe1a9",
     "locked": true,
     "schema_version": 1,
     "solution": false
    }
   },
   "source": [
    "## Question 6 [time estimate: 15 minutes] \n",
    "\n",
    "During the session, we will work on the challenging task of computing the course grade for a student given the grades he/she received in each LOs. \n",
    "\n",
    "The algorithm to follow is as follows:\n",
    "\n",
    "Terminology:\n",
    "LO = Learning Objective\n",
    "CO = Course Objective\n",
    "CG = Course Grade\n",
    "\n",
    "Algorithm for computing CGs:\n",
    "1. We first consider the LO grades within each course objective (CO), and compute the weighted mean (using each of the relevant LO grades and corresponding weights). Each course objective will now have an average grade.\n",
    "2. We then compute the average of the COs, to get the CG.\n",
    "\n",
    "We're only going to compute the course grades for Jake, at least for now.\n",
    "\n",
    "\n",
    "### Question 6a\n",
    "\n",
    "In this course there is only 1 course objective called A. Given the grades Jake received for each LO presented on the table below, compute his current course grade manually, following the algorithm above.\n",
    "\n",
    "\n",
    "CO | LO | Weight | Grade | CO Grade\n",
    "--- | --- | --- | --- | ---\n",
    "A | alpha | 1 | 3 |\n",
    "A | alpha | 2 | 2 |\n",
    "A | beta  | 1 | 4 |\n",
    "A | beta  | 2 | 3 |\n",
    "A | beta  | 3 | 2 |\n",
    "A | beta  | 1 | 3 |"
   ]
  },
  {
   "cell_type": "markdown",
   "metadata": {
    "deletable": false,
    "nbgrader": {
     "checksum": "eb02c9951e19ee43d128fa93dd53eaad",
     "grade": true,
     "grade_id": "cell-5ecb51404140cb2f",
     "locked": false,
     "points": 0,
     "schema_version": 1,
     "solution": true
    }
   },
   "source": [
    "There is only 1 CO (A).\n",
    "\n",
    "There are 2 LOs (alpha, beta)\n",
    "\n",
    "alpha- (1* 3 + 2* 2) / 3 <- 0.5\n",
    "\n",
    "Beta - (1* 4 + 2 * 3 + 3*2 + 1*3)/ (1+2+3+1) <-0.2\n",
    "\n",
    "\n"
   ]
  },
  {
   "cell_type": "code",
   "execution_count": 22,
   "metadata": {},
   "outputs": [
    {
     "data": {
      "text/plain": [
       "2.5238095238095237"
      ]
     },
     "execution_count": 22,
     "metadata": {},
     "output_type": "execute_result"
    }
   ],
   "source": [
    "0.5*((1* 3 + 2* 2) / 3) + 0.5 *( (1* 4 + 2 * 3 + 3*2 + 1*3)/ (1+2+3+1))"
   ]
  },
  {
   "cell_type": "markdown",
   "metadata": {
    "deletable": false,
    "editable": false,
    "nbgrader": {
     "checksum": "cb0b8b9c4b153530d47b437baa24098d",
     "grade": false,
     "grade_id": "cell-b22dce6b32afe1a9",
     "locked": true,
     "schema_version": 1,
     "solution": false
    }
   },
   "source": [
    "### Question 6b\n",
    "\n",
    "The academic team has now introduced an extra course objective, B, and Jake has just received a grade for an LO belonging to this new CO. Compute, manually, what his current course grade is.\n",
    "\n",
    "CO | LO | Weight | Grade | CO Grade | Course Grade\n",
    "--- | --- | --- | --- | --- | ---\n",
    "A | alpha | 1 | 3 |\n",
    "A | alpha | 2 | 2 |\n",
    "A | beta  | 1 | 4 |\n",
    "A | beta  | 2 | 3 |\n",
    "A | beta  | 3 | 2 |\n",
    "A | beta  | 1 | 3 |\n",
    "B | gamma | 2 | 5 |\n",
    "\n",
    "What is the impact of this new LO grade? "
   ]
  },
  {
   "cell_type": "code",
   "execution_count": 23,
   "metadata": {
    "deletable": false,
    "nbgrader": {
     "checksum": "eb02c9951e19ee43d128fa93dd53eaad",
     "grade": true,
     "grade_id": "cell-5ecb51404140cb2f",
     "locked": false,
     "points": 0,
     "schema_version": 1,
     "solution": true
    }
   },
   "outputs": [
    {
     "data": {
      "text/plain": [
       "3.349206349206349"
      ]
     },
     "execution_count": 23,
     "metadata": {},
     "output_type": "execute_result"
    }
   ],
   "source": [
    "1/3*((1*3+2*2)/3) + 1/3*((4+2*3+3*2+3)/7) + 1/3*((5*2)/2)"
   ]
  },
  {
   "cell_type": "markdown",
   "metadata": {
    "deletable": false,
    "editable": false,
    "nbgrader": {
     "checksum": "cb0b8b9c4b153530d47b437baa24098d",
     "grade": false,
     "grade_id": "cell-b22dce6b32afe1a9",
     "locked": true,
     "schema_version": 1,
     "solution": false
    }
   },
   "source": [
    "### Question 6c\n",
    "\n",
    "Describe here, using at least 100 words, how you would perform this calculation using a Python class."
   ]
  },
  {
   "cell_type": "markdown",
   "metadata": {
    "deletable": false,
    "nbgrader": {
     "checksum": "eb02c9951e19ee43d128fa93dd53eaad",
     "grade": true,
     "grade_id": "cell-5ecb51404140cb2f",
     "locked": false,
     "points": 0,
     "schema_version": 1,
     "solution": true
    }
   },
   "source": [
    "define a Class named Class_Grade\n",
    "\n",
    "1. Initialize  \n",
    "     -> input students name grade, weight \n",
    "    (saved as integers  to compute grade averages).\n",
    "     -> the instance store calculation in the dictionaries  \n",
    "     \n",
    "     \n",
    "2. define method  \n",
    "     -> calculate LO score (weight and grade)  \n",
    "     -> store them as a new attribute \n",
    "     \n",
    "\n",
    "3. define method 2  \n",
    "     -> that average all CO scores in the list\n",
    "     \n",
    "\n",
    "Call a function\n",
    "     \n",
    "\n",
    "I need to define a class first, with attributes of grades for  LOs of the course.\n",
    "\n",
    "The instance of this class would store Class grades in the dictionaries per LO.\n",
    "\n",
    "define method method for (1) total grade = sum of COs/#n of COs (2) for COs individually the formula will be CO = (1/#n of LOs)*((grade by its weight+grade by its weight...)/divided by the sum of weights) + ... till the end. (3) take an average to calculate the total grade.\n",
    "\n"
   ]
  }
 ],
 "metadata": {
  "kernelspec": {
   "display_name": "Python 3",
   "language": "python",
   "name": "python3"
  },
  "language_info": {
   "codemirror_mode": {
    "name": "ipython",
    "version": 3
   },
   "file_extension": ".py",
   "mimetype": "text/x-python",
   "name": "python",
   "nbconvert_exporter": "python",
   "pygments_lexer": "ipython3",
   "version": "3.8.5"
  }
 },
 "nbformat": 4,
 "nbformat_minor": 2
}
